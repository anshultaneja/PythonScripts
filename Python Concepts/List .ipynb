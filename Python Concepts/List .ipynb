{
 "cells": [
  {
   "cell_type": "markdown",
   "metadata": {},
   "source": [
    "## List "
   ]
  },
  {
   "cell_type": "markdown",
   "metadata": {},
   "source": [
    "Lists:\n",
    "It is collection datatyoe which is ordered as well as changeable i.e. muteable."
   ]
  },
  {
   "cell_type": "code",
   "execution_count": 13,
   "metadata": {},
   "outputs": [
    {
     "name": "stdout",
     "output_type": "stream",
     "text": [
      "['apple', 'mango', 'orange', 'kiwi']\n",
      "mango\n",
      "['orange', 'kiwi']\n",
      "['mango', 'orange']\n",
      "['mango', 'orange', 'kiwi']\n"
     ]
    }
   ],
   "source": [
    "#list always use square brackets\n",
    "li = [\"apple\",\"mango\",\"orange\",\"kiwi\"]\n",
    "print(li)\n",
    "print(li[1])\n",
    "print(li[2:4])\n",
    "print(li[-3:-1])\n",
    "print(li[1:])"
   ]
  },
  {
   "cell_type": "code",
   "execution_count": 14,
   "metadata": {},
   "outputs": [
    {
     "name": "stdout",
     "output_type": "stream",
     "text": [
      "['apple', 'banana', 'orange', 'kiwi']\n"
     ]
    }
   ],
   "source": [
    "li[1] = \"banana\"\n",
    "print(li)"
   ]
  },
  {
   "cell_type": "code",
   "execution_count": 15,
   "metadata": {},
   "outputs": [
    {
     "name": "stdout",
     "output_type": "stream",
     "text": [
      "apple\n",
      "mango\n",
      "orange\n",
      "kiwi\n"
     ]
    }
   ],
   "source": [
    "li = [\"apple\",\"mango\",\"orange\",\"kiwi\"]\n",
    "for x in li:\n",
    "    print(x)"
   ]
  },
  {
   "cell_type": "code",
   "execution_count": 16,
   "metadata": {},
   "outputs": [
    {
     "name": "stdout",
     "output_type": "stream",
     "text": [
      "Yes\n"
     ]
    }
   ],
   "source": [
    "li = [\"apple\",\"mango\",\"orange\",\"kiwi\"]\n",
    "if \"banana\" not in li:\n",
    "    print(\"Yes\")\n",
    "else:\n",
    "    print(\"No\")"
   ]
  },
  {
   "cell_type": "code",
   "execution_count": 17,
   "metadata": {},
   "outputs": [
    {
     "name": "stdout",
     "output_type": "stream",
     "text": [
      "5\n",
      "['apple', 'mango', 'orange', 'kiwi', 'banana']\n"
     ]
    }
   ],
   "source": [
    "li = [\"apple\",\"mango\",\"orange\",\"kiwi\"]\n",
    "li.append(\"banana\")\n",
    "print(len(li))\n",
    "print(li)"
   ]
  },
  {
   "cell_type": "code",
   "execution_count": 18,
   "metadata": {},
   "outputs": [
    {
     "name": "stdout",
     "output_type": "stream",
     "text": [
      "['apple', 'mango', 'guava', 'orange', 'kiwi']\n"
     ]
    }
   ],
   "source": [
    "li = [\"apple\",\"mango\",\"orange\",\"kiwi\"]\n",
    "li.insert(2, \"guava\")\n",
    "print(li)"
   ]
  },
  {
   "cell_type": "code",
   "execution_count": 19,
   "metadata": {},
   "outputs": [
    {
     "name": "stdout",
     "output_type": "stream",
     "text": [
      "['apple', 'orange', 'kiwi']\n"
     ]
    }
   ],
   "source": [
    "li = [\"apple\",\"mango\",\"orange\",\"kiwi\"]\n",
    "li.remove(\"mango\")\n",
    "print(li)"
   ]
  },
  {
   "cell_type": "code",
   "execution_count": 25,
   "metadata": {},
   "outputs": [
    {
     "name": "stdout",
     "output_type": "stream",
     "text": [
      "['apple', 'mango', 'orange']\n",
      "['apple', 'mango']\n",
      "[]\n",
      "['cherry']\n"
     ]
    }
   ],
   "source": [
    "li = [\"apple\",\"mango\",\"orange\",\"kiwi\"]\n",
    "li.pop()  #deletes last item of the list\n",
    "print(li)\n",
    "li.pop(2) #deletes item on index 2\n",
    "print(li)\n",
    "li.clear()  #removes all the elements but the list exits i.e. empty list\n",
    "#del li  #deletes the entire list and removes from memory\n",
    "print(li)\n",
    "li.append(\"cherry\")\n",
    "print(li)"
   ]
  },
  {
   "cell_type": "code",
   "execution_count": 36,
   "metadata": {},
   "outputs": [
    {
     "name": "stdout",
     "output_type": "stream",
     "text": [
      "['mango', 'orange']\n"
     ]
    }
   ],
   "source": [
    "li = [\"apple\",\"mango\",\"apple\",\"orange\",\"kiwi\"]\n",
    "x = \"apple\"\n",
    "for x in li:\n",
    "    li.remove(x)\n",
    "print(li)"
   ]
  },
  {
   "cell_type": "code",
   "execution_count": 31,
   "metadata": {},
   "outputs": [
    {
     "name": "stdout",
     "output_type": "stream",
     "text": [
      "['apple', 'mango', 'apple', 'orange', 'guava', 'kiwi']\n",
      "['apple', 'mango', 'apple', 'orange', 'guava', 'kiwi']\n",
      "['apple', 'mango', 'apple', 'orange', 'guava', 'kiwi', 'pear']\n",
      "['apple', 'mango', 'apple', 'orange', 'guava', 'kiwi']\n"
     ]
    }
   ],
   "source": [
    "li = [\"apple\", \"mango\", \"apple\", \"orange\", \"guava\", \"kiwi\"]\n",
    "#list1 = li  #gives only reference of the address not make a copy\n",
    "#list1 = li.copy() # makes a copy of the li\n",
    "list1 = list(li)   #makes a copy of the li\n",
    "print(li)\n",
    "print(list1)\n",
    "li.append(\"pear\")\n",
    "print(li)\n",
    "print(list1)"
   ]
  },
  {
   "cell_type": "code",
   "execution_count": 46,
   "metadata": {},
   "outputs": [
    {
     "name": "stdout",
     "output_type": "stream",
     "text": [
      "None\n",
      "['apple', 'mango', 'apple', 'orange', 'guava', 'kiwi', 'fruits', ' veggies', 'beverages']\n",
      "['apple', 'mango', 'apple', 'orange', 'guava', 'kiwi', ['fruits', ' veggies', 'beverages'], 'fruits', ' veggies', 'beverages']\n",
      "fruits\n"
     ]
    }
   ],
   "source": [
    "li1 = [\"apple\", \"mango\", \"apple\", \"orange\", \"guava\", \"kiwi\"]\n",
    "li2 = [\"fruits\", \" veggies\", \"beverages\"]\n",
    "li3 = li1 +li2  #makes a single list \n",
    "li1.append(li2) # appends list as a sub list\n",
    "print(li3)\n",
    "print(li1)\n",
    "print(li1[6][0])"
   ]
  },
  {
   "cell_type": "code",
   "execution_count": 49,
   "metadata": {},
   "outputs": [
    {
     "name": "stdout",
     "output_type": "stream",
     "text": [
      "['apple', 'mango', 'apple', 'orange', 'guava', 'kiwi', 'fruits', ' veggies', 'beverages']\n"
     ]
    }
   ],
   "source": [
    "li1 = [\"apple\", \"mango\", \"apple\", \"orange\", \"guava\", \"kiwi\"]\n",
    "li2 = [\"fruits\", \" veggies\", \"beverages\"]\n",
    "li1.extend(li2)\n",
    "print(li1)"
   ]
  },
  {
   "cell_type": "code",
   "execution_count": 37,
   "metadata": {},
   "outputs": [
    {
     "name": "stdout",
     "output_type": "stream",
     "text": [
      "['apple', 'mango', 'apple', 'orange', 'guava', 'kiwi', 'fruits', ' veggies']\n"
     ]
    }
   ],
   "source": [
    "li1 = [\"apple\", \"mango\", \"apple\", \"orange\", \"guava\", \"kiwi\"]\n",
    "li2 = [\"fruits\", \" veggies\"]\n",
    "for x in li2:\n",
    "    li1.append(x)\n",
    "print(li1)"
   ]
  },
  {
   "cell_type": "code",
   "execution_count": 41,
   "metadata": {},
   "outputs": [
    {
     "name": "stdout",
     "output_type": "stream",
     "text": [
      "[' veggies', 'fruits', 'kiwi', 'guava', 'orange', 'apple', 'mango', 'apple']\n"
     ]
    }
   ],
   "source": [
    "li1 = ['apple', 'mango', 'apple', 'orange', 'guava', 'kiwi', 'fruits', ' veggies']\n",
    "li1.reverse()\n",
    "print(li1)"
   ]
  },
  {
   "cell_type": "code",
   "execution_count": 43,
   "metadata": {},
   "outputs": [
    {
     "data": {
      "text/plain": [
       "[1, 2, 3, 5, 6, 8, 9, 87]"
      ]
     },
     "execution_count": 43,
     "metadata": {},
     "output_type": "execute_result"
    }
   ],
   "source": [
    "li = [1,2,3,5,6,87,8,9]\n",
    "li.sort()\n",
    "li"
   ]
  },
  {
   "cell_type": "code",
   "execution_count": 44,
   "metadata": {},
   "outputs": [
    {
     "data": {
      "text/plain": [
       "['hello', 1, 3, 4, 8]"
      ]
     },
     "execution_count": 44,
     "metadata": {},
     "output_type": "execute_result"
    }
   ],
   "source": [
    "li = [\"hello\", 1,3,4,8]  #it contains heterogeneous elements\n",
    "li"
   ]
  },
  {
   "cell_type": "code",
   "execution_count": 56,
   "metadata": {},
   "outputs": [
    {
     "name": "stdout",
     "output_type": "stream",
     "text": [
      "['mango', 'orange', 'guava', 'kiwi', 'fruits', ' veggies']\n"
     ]
    }
   ],
   "source": [
    "li1 = ['apple', 'mango', 'apple', 'orange', 'guava', 'kiwi', 'fruits', ' veggies']\n",
    "for x in li1:\n",
    "    if \"apple\" in li1:\n",
    "        li1.remove(\"apple\")\n",
    "print(li1)"
   ]
  }
 ],
 "metadata": {
  "kernelspec": {
   "display_name": "Python 3",
   "language": "python",
   "name": "python3"
  },
  "language_info": {
   "codemirror_mode": {
    "name": "ipython",
    "version": 3
   },
   "file_extension": ".py",
   "mimetype": "text/x-python",
   "name": "python",
   "nbconvert_exporter": "python",
   "pygments_lexer": "ipython3",
   "version": "3.7.6"
  }
 },
 "nbformat": 4,
 "nbformat_minor": 4
}
