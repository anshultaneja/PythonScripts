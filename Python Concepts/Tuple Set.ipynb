{
 "cells": [
  {
   "cell_type": "markdown",
   "metadata": {},
   "source": [
    "## Tuples"
   ]
  },
  {
   "cell_type": "markdown",
   "metadata": {},
   "source": [
    "1) List - Ordered, mutable\n",
    "\n",
    "2) Tuple - Ordered, Unmutable"
   ]
  },
  {
   "cell_type": "code",
   "execution_count": 4,
   "metadata": {},
   "outputs": [
    {
     "name": "stdout",
     "output_type": "stream",
     "text": [
      "(2, 1, 3, 6)\n",
      "4\n",
      "<class 'tuple'>\n"
     ]
    }
   ],
   "source": [
    "#Tuple is creted using Round brackets\n",
    "li = (2,1,3,6)\n",
    "print (li)\n",
    "print(len(li))\n",
    "print(type(li))"
   ]
  },
  {
   "cell_type": "code",
   "execution_count": 20,
   "metadata": {},
   "outputs": [
    {
     "name": "stdout",
     "output_type": "stream",
     "text": [
      "2\n",
      "1\n",
      "3\n",
      "6\n",
      "Elemts 2\n",
      "Elemts 1\n",
      "Elemts 3\n",
      "Elemts 6\n"
     ]
    }
   ],
   "source": [
    "li = (2,1,3,6) #element wise printing\n",
    "for x in li:\n",
    "    print(x)\n",
    "for i in range(len(li)):\n",
    "    print('Elemts',li[i])"
   ]
  },
  {
   "cell_type": "code",
   "execution_count": 5,
   "metadata": {},
   "outputs": [
    {
     "name": "stdout",
     "output_type": "stream",
     "text": [
      "<class 'int'>\n",
      "<class 'tuple'>\n"
     ]
    }
   ],
   "source": [
    "li = (1)\n",
    "print(type(li))\n",
    "tup = (1,)\n",
    "print(type(tup))"
   ]
  },
  {
   "cell_type": "code",
   "execution_count": 11,
   "metadata": {},
   "outputs": [
    {
     "name": "stdout",
     "output_type": "stream",
     "text": [
      "<class 'tuple'>\n",
      "<class 'list'>\n",
      "[1, 10, 6, 9, 11]\n",
      "(1, 10, 6, 9, 11)\n",
      "5\n"
     ]
    },
    {
     "ename": "AttributeError",
     "evalue": "'tuple' object has no attribute 'sort'",
     "output_type": "error",
     "traceback": [
      "\u001b[1;31m---------------------------------------------------------------------------\u001b[0m",
      "\u001b[1;31mAttributeError\u001b[0m                            Traceback (most recent call last)",
      "\u001b[1;32m<ipython-input-11-d5fa037ad81a>\u001b[0m in \u001b[0;36m<module>\u001b[1;34m\u001b[0m\n\u001b[0;32m     13\u001b[0m \u001b[0mprint\u001b[0m\u001b[1;33m(\u001b[0m\u001b[0mtup1\u001b[0m\u001b[1;33m)\u001b[0m\u001b[1;33m\u001b[0m\u001b[1;33m\u001b[0m\u001b[0m\n\u001b[0;32m     14\u001b[0m \u001b[0mprint\u001b[0m\u001b[1;33m(\u001b[0m\u001b[0mlen\u001b[0m\u001b[1;33m(\u001b[0m\u001b[0mtup1\u001b[0m\u001b[1;33m)\u001b[0m\u001b[1;33m)\u001b[0m\u001b[1;33m\u001b[0m\u001b[1;33m\u001b[0m\u001b[0m\n\u001b[1;32m---> 15\u001b[1;33m \u001b[0mtup1\u001b[0m\u001b[1;33m.\u001b[0m\u001b[0msort\u001b[0m\u001b[1;33m(\u001b[0m\u001b[1;33m)\u001b[0m \u001b[1;31m# tuple dosen't have sort function therefore output will be same as input\u001b[0m\u001b[1;33m\u001b[0m\u001b[1;33m\u001b[0m\u001b[0m\n\u001b[0m",
      "\u001b[1;31mAttributeError\u001b[0m: 'tuple' object has no attribute 'sort'"
     ]
    }
   ],
   "source": [
    "# editing a tuple using list\n",
    "tup = (1,4,6,9,12)\n",
    "print(type(tup))\n",
    "\n",
    "li = list(tup)\n",
    "print(type(li))\n",
    "li[1] = 10\n",
    "li.append(11) # adding using list\n",
    "li.remove(12) # removing using list \n",
    "print(li)\n",
    "\n",
    "tup1 = tuple(li)\n",
    "print(tup1)\n",
    "print(len(tup1))\n",
    "tup1.sort() # tuple dosen't have sort function therefore output will be same as input\n"
   ]
  },
  {
   "cell_type": "code",
   "execution_count": 11,
   "metadata": {},
   "outputs": [
    {
     "name": "stdout",
     "output_type": "stream",
     "text": [
      "(1, 2, 3, 5, 6, 7)\n"
     ]
    }
   ],
   "source": [
    "# adding elements using concatenation method\n",
    "tup1 = (1,2,3)\n",
    "tup2 = (5,6,7)\n",
    "tup3 = tup1+tup2\n",
    "print(tup3)"
   ]
  },
  {
   "cell_type": "code",
   "execution_count": 13,
   "metadata": {},
   "outputs": [
    {
     "name": "stdout",
     "output_type": "stream",
     "text": [
      "3\n"
     ]
    }
   ],
   "source": [
    "tup1 = (1,2,4,6,2,7,4,8,4)\n",
    "print(tup1.count(4))   #counts the frequency of an element"
   ]
  },
  {
   "cell_type": "code",
   "execution_count": 14,
   "metadata": {},
   "outputs": [
    {
     "name": "stdout",
     "output_type": "stream",
     "text": [
      "2\n"
     ]
    }
   ],
   "source": [
    "tup1 = (1,2,4,6,2,7,4,8,4)\n",
    "print(tup1.index(4))   #returns the index of an element"
   ]
  },
  {
   "cell_type": "code",
   "execution_count": 9,
   "metadata": {},
   "outputs": [
    {
     "name": "stdout",
     "output_type": "stream",
     "text": [
      "(4, 6, 2)\n",
      "(1, 2, 4, 6, 2)\n",
      "(4, 6, 2, 7, 4, 8, 4)\n",
      "(2, 7, 4)\n"
     ]
    }
   ],
   "source": [
    "#accessing using index slincing\n",
    "tup1 = (1,2,4,6,2,7,4,8,4)\n",
    "print(tup1[2:5]) # return from index 2 to index (5-1)\n",
    "print(tup1[:5]) # returns from staring index i.e. 0 to index (5-1)\n",
    "print(tup1[2:]) # returns from index 2 to end index \n",
    "print(tup1[-5:-2]) # returns from (last 2nd - 1) index to last 5th index"
   ]
  },
  {
   "cell_type": "code",
   "execution_count": 10,
   "metadata": {},
   "outputs": [
    {
     "name": "stdout",
     "output_type": "stream",
     "text": [
      "No\n"
     ]
    }
   ],
   "source": [
    "# if element exists\n",
    "tup1 = (1,2,4,6,2,7,4,8,4)\n",
    "if 3 in tup1:\n",
    "    print(\"Yes\")\n",
    "else:\n",
    "    print(\"No\")"
   ]
  },
  {
   "cell_type": "code",
   "execution_count": 14,
   "metadata": {},
   "outputs": [
    {
     "name": "stdout",
     "output_type": "stream",
     "text": [
      "Arjun\n",
      "Aarna\n",
      "Aisha\n"
     ]
    }
   ],
   "source": [
    "#unpacking a tuple\n",
    "tup = ('Arjun', 'Aarna', 'Aisha')\n",
    "Stud1 , Stud2 , Stud3 = tup\n",
    "print(Stud1)\n",
    "print(Stud2)\n",
    "print(Stud3)"
   ]
  },
  {
   "cell_type": "code",
   "execution_count": 16,
   "metadata": {},
   "outputs": [
    {
     "name": "stdout",
     "output_type": "stream",
     "text": [
      "parrot\n",
      "sunflower\n",
      "['cherry', 'rose', 'Cola']\n"
     ]
    }
   ],
   "source": [
    "#If the number of variables is less than the number of values, \n",
    "#you can add an * to the variable name and the values will be assigned to the variable as a list:\n",
    "fruits = (\"parrot\", \"sunflower\", \"cherry\", \"rose\", \"Cola\")\n",
    "\n",
    "(green, yellow, *red) = fruits\n",
    "\n",
    "print(green)\n",
    "print(yellow)\n",
    "print(red)"
   ]
  },
  {
   "cell_type": "code",
   "execution_count": 23,
   "metadata": {},
   "outputs": [
    {
     "name": "stdout",
     "output_type": "stream",
     "text": [
      "(1, 2, 3, 4, 5, 1, 2, 3, 4, 5)\n"
     ]
    }
   ],
   "source": [
    "#If you want to multiply the content of a tuple a given number of times, you can use the * operator:\n",
    "tup=(1,2,3,4,5)\n",
    "tup_1 = tup*2\n",
    "print(tup_1)"
   ]
  },
  {
   "cell_type": "markdown",
   "metadata": {},
   "source": [
    "## Sets"
   ]
  },
  {
   "cell_type": "markdown",
   "metadata": {},
   "source": [
    "1) list - ordered, mutable, indexed, duplicates, [ ]\n",
    "\n",
    "2) Tuple - ordered, immutable, indexed, duplicates, ( )\n",
    "\n",
    "3) Set - unordered, immutable, non-indexed, no duplicates, { }"
   ]
  },
  {
   "cell_type": "code",
   "execution_count": 15,
   "metadata": {},
   "outputs": [
    {
     "name": "stdout",
     "output_type": "stream",
     "text": [
      "<class 'set'>\n"
     ]
    }
   ],
   "source": [
    "s1 = {1,2,3,4}\n",
    "print(type(s1))"
   ]
  },
  {
   "cell_type": "code",
   "execution_count": 26,
   "metadata": {},
   "outputs": [
    {
     "name": "stdout",
     "output_type": "stream",
     "text": [
      "{1, 2, 5, 9, 11}\n",
      "1\n",
      "2\n",
      "5\n",
      "9\n",
      "11\n"
     ]
    },
    {
     "ename": "TypeError",
     "evalue": "'set' object is not subscriptable",
     "output_type": "error",
     "traceback": [
      "\u001b[1;31m---------------------------------------------------------------------------\u001b[0m",
      "\u001b[1;31mTypeError\u001b[0m                                 Traceback (most recent call last)",
      "\u001b[1;32m<ipython-input-26-b8200815b4b2>\u001b[0m in \u001b[0;36m<module>\u001b[1;34m\u001b[0m\n\u001b[0;32m      3\u001b[0m     \u001b[0mprint\u001b[0m\u001b[1;33m(\u001b[0m\u001b[0mx\u001b[0m\u001b[1;33m)\u001b[0m\u001b[1;33m\u001b[0m\u001b[1;33m\u001b[0m\u001b[0m\n\u001b[0;32m      4\u001b[0m \u001b[1;32mfor\u001b[0m \u001b[0mx\u001b[0m \u001b[1;32min\u001b[0m \u001b[0mrange\u001b[0m\u001b[1;33m(\u001b[0m\u001b[0mlen\u001b[0m\u001b[1;33m(\u001b[0m\u001b[0ms1\u001b[0m\u001b[1;33m)\u001b[0m\u001b[1;33m)\u001b[0m\u001b[1;33m:\u001b[0m\u001b[1;33m\u001b[0m\u001b[1;33m\u001b[0m\u001b[0m\n\u001b[1;32m----> 5\u001b[1;33m     \u001b[0mprint\u001b[0m\u001b[1;33m(\u001b[0m\u001b[1;34m'elemts'\u001b[0m\u001b[1;33m,\u001b[0m\u001b[0ms1\u001b[0m\u001b[1;33m[\u001b[0m\u001b[0mx\u001b[0m\u001b[1;33m]\u001b[0m\u001b[1;33m)\u001b[0m\u001b[1;33m\u001b[0m\u001b[1;33m\u001b[0m\u001b[0m\n\u001b[0m",
      "\u001b[1;31mTypeError\u001b[0m: 'set' object is not subscriptable"
     ]
    }
   ],
   "source": [
    "print(s1)\n",
    "for x in s1:\n",
    "    print(x)\n",
    "#no indexing \n",
    "for x in range(len(s1)):  # not accessible using this method # because of no indexxing in sets \n",
    "    print('elemts',s1[x])"
   ]
  },
  {
   "cell_type": "code",
   "execution_count": 17,
   "metadata": {},
   "outputs": [
    {
     "name": "stdout",
     "output_type": "stream",
     "text": [
      "{1, 2, 3, 4, 7}\n"
     ]
    }
   ],
   "source": [
    "#sorted\n",
    "s1 = {1,2,3,4}\n",
    "s1.add(7)  # We can add elements in sets \n",
    "print(s1)"
   ]
  },
  {
   "cell_type": "code",
   "execution_count": 27,
   "metadata": {},
   "outputs": [
    {
     "name": "stdout",
     "output_type": "stream",
     "text": [
      "{1, 2, 3, 4, 6, 9, 10, 45}\n",
      "<class 'set'>\n"
     ]
    }
   ],
   "source": [
    "# adding elements\n",
    "# only unique elements exists\n",
    "s1 = {1,2,3,4}\n",
    "s1.add(45) # using .add\n",
    "\n",
    "# adding two sets\n",
    "s1.update({3,4,6,9,10}) # using .update #from one set to another \n",
    "print(s1)\n",
    "print(type(s1))"
   ]
  },
  {
   "cell_type": "code",
   "execution_count": 19,
   "metadata": {},
   "outputs": [
    {
     "data": {
      "text/plain": [
       "{1, 2, 3, 6, 9, 10}"
      ]
     },
     "execution_count": 19,
     "metadata": {},
     "output_type": "execute_result"
    }
   ],
   "source": [
    "s1.remove(4) # removing an element\n",
    "s1"
   ]
  },
  {
   "cell_type": "code",
   "execution_count": 20,
   "metadata": {},
   "outputs": [
    {
     "ename": "KeyError",
     "evalue": "12",
     "output_type": "error",
     "traceback": [
      "\u001b[1;31m---------------------------------------------------------------------------\u001b[0m",
      "\u001b[1;31mKeyError\u001b[0m                                  Traceback (most recent call last)",
      "\u001b[1;32m<ipython-input-20-492049840ed8>\u001b[0m in \u001b[0;36m<module>\u001b[1;34m\u001b[0m\n\u001b[1;32m----> 1\u001b[1;33m \u001b[0ms1\u001b[0m\u001b[1;33m.\u001b[0m\u001b[0mremove\u001b[0m\u001b[1;33m(\u001b[0m\u001b[1;36m12\u001b[0m\u001b[1;33m)\u001b[0m\u001b[1;33m\u001b[0m\u001b[1;33m\u001b[0m\u001b[0m\n\u001b[0m",
      "\u001b[1;31mKeyError\u001b[0m: 12"
     ]
    }
   ],
   "source": [
    "s1.remove(12)"
   ]
  },
  {
   "cell_type": "code",
   "execution_count": 22,
   "metadata": {},
   "outputs": [
    {
     "data": {
      "text/plain": [
       "{1, 2, 3, 6, 9, 10}"
      ]
     },
     "execution_count": 22,
     "metadata": {},
     "output_type": "execute_result"
    }
   ],
   "source": [
    "s1.discard(12)  #checks if the element is present or not if it is present then it removes otherwise there is no action taken\n",
    "s1"
   ]
  },
  {
   "cell_type": "code",
   "execution_count": 27,
   "metadata": {},
   "outputs": [
    {
     "name": "stdout",
     "output_type": "stream",
     "text": [
      "{32, 2, 4, 7, 76, 12, 21, 88}\n"
     ]
    }
   ],
   "source": [
    "s2 = {4,7,2,88,32,76,21,12}\n",
    "print(s2)  #prints elements in any order"
   ]
  },
  {
   "cell_type": "code",
   "execution_count": 28,
   "metadata": {},
   "outputs": [
    {
     "name": "stdout",
     "output_type": "stream",
     "text": [
      "{2, 4, 7, 76, 12, 21, 88}\n"
     ]
    }
   ],
   "source": [
    "s2.pop() #remove the last item\n",
    "print(s2)"
   ]
  },
  {
   "cell_type": "code",
   "execution_count": null,
   "metadata": {},
   "outputs": [],
   "source": [
    "s = {4,7,2,88,32,76,21,12}\n",
    "s.clear() # removes all the elements makes empty set\n",
    "del s # deletes the set from the memory"
   ]
  },
  {
   "cell_type": "code",
   "execution_count": 3,
   "metadata": {},
   "outputs": [
    {
     "name": "stdout",
     "output_type": "stream",
     "text": [
      "{1, 2, 5, 9, 11}\n",
      "{3, 6, 8, 11, 12}\n",
      "{1, 2, 3, 5, 6, 8, 9, 11, 12}\n",
      "{11}\n",
      "{1, 2, 5, 9}\n"
     ]
    }
   ],
   "source": [
    "#del s2  #delets the set\n",
    "#s2.clear() #clears the elememts of set\n",
    "s1 = {1,5,2,11,9}\n",
    "s2 = {3,6,8,12,11}\n",
    "print(s1)\n",
    "print(s2)\n",
    "\n",
    "s3 = s1.union(s2)\n",
    "print(s3)\n",
    "\n",
    "s4 = s1.intersection(s2)\n",
    "print(s4)\n",
    "\n",
    "s5 = s1.difference(s2)\n",
    "print(s5)"
   ]
  },
  {
   "cell_type": "code",
   "execution_count": 34,
   "metadata": {},
   "outputs": [
    {
     "name": "stdout",
     "output_type": "stream",
     "text": [
      "{8, 1}\n"
     ]
    }
   ],
   "source": [
    "#The intersection_update() method will keep only the items that are present in both sets.\n",
    "\n",
    "x = {6,7,8,9,1,10}\n",
    "y = {1,2,3,4,5,8}\n",
    "\n",
    "x.intersection_update(y)\n",
    "print(x)"
   ]
  },
  {
   "cell_type": "code",
   "execution_count": 35,
   "metadata": {},
   "outputs": [
    {
     "name": "stdout",
     "output_type": "stream",
     "text": [
      "{2, 3, 4, 5, 6, 7, 9, 10}\n"
     ]
    }
   ],
   "source": [
    "#The symmetric_difference_update() method will keep only the elements that are NOT present in both sets\n",
    "x = {6,7,8,9,1,10}\n",
    "y = {1,2,3,4,5,8}\n",
    "\n",
    "x.symmetric_difference_update(y)\n",
    "print(x)"
   ]
  },
  {
   "cell_type": "code",
   "execution_count": 36,
   "metadata": {},
   "outputs": [
    {
     "name": "stdout",
     "output_type": "stream",
     "text": [
      "{1, 6, 7, 8, 9, 10}\n"
     ]
    }
   ],
   "source": [
    "#The symmetric_difference() method will return a new set, \n",
    "#that contains only the elements that are NOT present in both sets.\n",
    "\n",
    "x = {6,7,8,9,1,10}\n",
    "y = {1,2,3,4,5,8}\n",
    "\n",
    "x.symmetric_difference(y)\n",
    "print(x)"
   ]
  }
 ],
 "metadata": {
  "kernelspec": {
   "display_name": "Python 3",
   "language": "python",
   "name": "python3"
  },
  "language_info": {
   "codemirror_mode": {
    "name": "ipython",
    "version": 3
   },
   "file_extension": ".py",
   "mimetype": "text/x-python",
   "name": "python",
   "nbconvert_exporter": "python",
   "pygments_lexer": "ipython3",
   "version": "3.7.6"
  }
 },
 "nbformat": 4,
 "nbformat_minor": 4
}
