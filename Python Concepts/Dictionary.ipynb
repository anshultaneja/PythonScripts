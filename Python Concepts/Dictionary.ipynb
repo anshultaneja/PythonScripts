{
 "cells": [
  {
   "cell_type": "markdown",
   "metadata": {},
   "source": [
    "## Dictionary - unordered, indexed, mutable"
   ]
  },
  {
   "cell_type": "markdown",
   "metadata": {},
   "source": [
    "Dictionaries are written with curly brackets, and have keys and values"
   ]
  },
  {
   "cell_type": "markdown",
   "metadata": {},
   "source": [
    "1) list - ordered, mutable, indexed, duplicates, [ ]\n",
    "\n",
    "2) Tuple - ordered, immutable, indexed, duplicates, ( )\n",
    "\n",
    "3) Set - unordered, immutable, non-indexed, no duplicates, { }\n",
    "\n",
    "4) Dictionary - unordered, mutable, indexed, no duplicate keys, { x:y, a:b}"
   ]
  },
  {
   "cell_type": "code",
   "execution_count": 1,
   "metadata": {},
   "outputs": [
    {
     "data": {
      "text/plain": [
       "set"
      ]
     },
     "execution_count": 1,
     "metadata": {},
     "output_type": "execute_result"
    }
   ],
   "source": [
    "dict = {1,2,3,4}\n",
    "type(dict)"
   ]
  },
  {
   "cell_type": "code",
   "execution_count": 3,
   "metadata": {},
   "outputs": [
    {
     "name": "stdout",
     "output_type": "stream",
     "text": [
      "4\n",
      "<class 'dict'>\n"
     ]
    }
   ],
   "source": [
    "dict = {1:'isha',2:'arun',3:'aman',4:'anaya'}\n",
    "print(len(dict))\n",
    "print(type(dict))"
   ]
  },
  {
   "cell_type": "code",
   "execution_count": 3,
   "metadata": {},
   "outputs": [
    {
     "name": "stdout",
     "output_type": "stream",
     "text": [
      "{1: 'isha', 2: 'arun', 3: 'aman', 4: 'anaya'}\n"
     ]
    }
   ],
   "source": [
    "# accessing dictionary\n",
    "print(dict)"
   ]
  },
  {
   "cell_type": "code",
   "execution_count": 5,
   "metadata": {},
   "outputs": [
    {
     "name": "stdout",
     "output_type": "stream",
     "text": [
      "anaya\n",
      "aman\n"
     ]
    }
   ],
   "source": [
    "# accessing using keys\n",
    "print(dict[4])\n",
    "print(dict[3])"
   ]
  },
  {
   "cell_type": "code",
   "execution_count": 6,
   "metadata": {},
   "outputs": [
    {
     "ename": "KeyError",
     "evalue": "5",
     "output_type": "error",
     "traceback": [
      "\u001b[1;31m---------------------------------------------------------------------------\u001b[0m",
      "\u001b[1;31mKeyError\u001b[0m                                  Traceback (most recent call last)",
      "\u001b[1;32m<ipython-input-6-60504f2debdd>\u001b[0m in \u001b[0;36m<module>\u001b[1;34m\u001b[0m\n\u001b[1;32m----> 1\u001b[1;33m \u001b[0mdict\u001b[0m\u001b[1;33m[\u001b[0m\u001b[1;36m5\u001b[0m\u001b[1;33m]\u001b[0m\u001b[1;33m\u001b[0m\u001b[1;33m\u001b[0m\u001b[0m\n\u001b[0m",
      "\u001b[1;31mKeyError\u001b[0m: 5"
     ]
    }
   ],
   "source": [
    "# keys which doesnot exist, gives error\n",
    "dict[5]"
   ]
  },
  {
   "cell_type": "code",
   "execution_count": 7,
   "metadata": {},
   "outputs": [
    {
     "name": "stdout",
     "output_type": "stream",
     "text": [
      "anaya\n"
     ]
    }
   ],
   "source": [
    "# accessing using .get() function\n",
    "print(dict.get(4))"
   ]
  },
  {
   "cell_type": "code",
   "execution_count": 11,
   "metadata": {},
   "outputs": [
    {
     "data": {
      "text/plain": [
       "{1: 'isha', 2: 'rina', 3: 'aman', 4: 'anaya'}"
      ]
     },
     "execution_count": 11,
     "metadata": {},
     "output_type": "execute_result"
    }
   ],
   "source": [
    "# editing values using a key\n",
    "dict[2] = 'rina'\n",
    "dict"
   ]
  },
  {
   "cell_type": "code",
   "execution_count": 13,
   "metadata": {},
   "outputs": [
    {
     "data": {
      "text/plain": [
       "{1: 'isha', 2: 'rina', 3: 'aman', 4: 'anaya', 5: 'krish'}"
      ]
     },
     "execution_count": 13,
     "metadata": {},
     "output_type": "execute_result"
    }
   ],
   "source": [
    "# adding new key and value \n",
    "# adding elememt to dictionary\n",
    "dict[5] = 'krish'\n",
    "dict"
   ]
  },
  {
   "cell_type": "code",
   "execution_count": 17,
   "metadata": {},
   "outputs": [
    {
     "name": "stdout",
     "output_type": "stream",
     "text": [
      "1\n",
      "2\n",
      "3\n",
      "4\n",
      "5\n"
     ]
    }
   ],
   "source": [
    "# accessing keys using for loop\n",
    "for x in dict:\n",
    "    print(x)"
   ]
  },
  {
   "cell_type": "code",
   "execution_count": 23,
   "metadata": {},
   "outputs": [
    {
     "name": "stdout",
     "output_type": "stream",
     "text": [
      "1 isha\n",
      "2 rina\n",
      "3 aman\n",
      "4 anaya\n",
      "5 krish\n"
     ]
    }
   ],
   "source": [
    "# accessing elements using elements-wise method\n",
    "for x in dict:\n",
    "    print(x,dict[x])"
   ]
  },
  {
   "cell_type": "code",
   "execution_count": 20,
   "metadata": {},
   "outputs": [
    {
     "name": "stdout",
     "output_type": "stream",
     "text": [
      "isha\n",
      "rina\n",
      "aman\n",
      "anaya\n",
      "krish\n"
     ]
    }
   ],
   "source": [
    "# accessing only values\n",
    "for x in dict.values():\n",
    "    print(x)"
   ]
  },
  {
   "cell_type": "code",
   "execution_count": 21,
   "metadata": {},
   "outputs": [
    {
     "name": "stdout",
     "output_type": "stream",
     "text": [
      "1\n",
      "2\n",
      "3\n",
      "4\n",
      "5\n"
     ]
    }
   ],
   "source": [
    "# accessing keys using .keys() function\n",
    "for x in dict.keys():\n",
    "    print(x)"
   ]
  },
  {
   "cell_type": "code",
   "execution_count": 22,
   "metadata": {},
   "outputs": [
    {
     "name": "stdout",
     "output_type": "stream",
     "text": [
      "1 isha\n",
      "2 rina\n",
      "3 aman\n",
      "4 anaya\n",
      "5 krish\n"
     ]
    }
   ],
   "source": [
    "# accessing using 2 variables\n",
    "for x, y in dict.items():\n",
    "    print(x,y)"
   ]
  },
  {
   "cell_type": "code",
   "execution_count": 24,
   "metadata": {},
   "outputs": [
    {
     "name": "stdout",
     "output_type": "stream",
     "text": [
      "Yes\n"
     ]
    }
   ],
   "source": [
    "# checking if element exists or not\n",
    "if 2 in dict:\n",
    "    print('Yes')\n",
    "else:\n",
    "    print('no')"
   ]
  },
  {
   "cell_type": "code",
   "execution_count": 25,
   "metadata": {},
   "outputs": [
    {
     "name": "stdout",
     "output_type": "stream",
     "text": [
      "5\n"
     ]
    }
   ],
   "source": [
    "print(len(dict))"
   ]
  },
  {
   "cell_type": "code",
   "execution_count": 26,
   "metadata": {},
   "outputs": [
    {
     "name": "stdout",
     "output_type": "stream",
     "text": [
      "{1: 'isha', 2: 'rina', 4: 'anaya', 5: 'krish'}\n"
     ]
    }
   ],
   "source": [
    "# removes element using .pop() function\n",
    "dict.pop(3) #removes element with 3 as a key\n",
    "print(dict)"
   ]
  },
  {
   "cell_type": "code",
   "execution_count": null,
   "metadata": {},
   "outputs": [],
   "source": [
    "# del dict  #delets the dictionary\n",
    "#dict.clear() # clears all elments and makes it empty dict"
   ]
  },
  {
   "cell_type": "code",
   "execution_count": 28,
   "metadata": {},
   "outputs": [
    {
     "name": "stdout",
     "output_type": "stream",
     "text": [
      "{1: 'isha', 2: 'rina', 4: 'anaya', 5: 'krish'}\n"
     ]
    }
   ],
   "source": [
    "# copying a dictionary\n",
    "dict1 = dict.copy()\n",
    "print(dict1)"
   ]
  },
  {
   "cell_type": "code",
   "execution_count": 29,
   "metadata": {},
   "outputs": [
    {
     "name": "stdout",
     "output_type": "stream",
     "text": [
      "{1: {'name': 'isha', 'age': 34}, 2: {'name': 'rahul', 'age': 32}, 3: {'name': 'jaya', 'age': 31}}\n"
     ]
    }
   ],
   "source": [
    "# nested dictionary\n",
    "dict = {\n",
    "    1:{\"name\":\"isha\", \"age\":34},\n",
    "    2:{\"name\": \"rahul\", \"age\":32},\n",
    "    3:{\"name\":\"jaya\",\"age\":31}\n",
    "}\n",
    "print(dict)"
   ]
  },
  {
   "cell_type": "code",
   "execution_count": 30,
   "metadata": {},
   "outputs": [
    {
     "name": "stdout",
     "output_type": "stream",
     "text": [
      "{'first': {'name': 'anaya', 'age': 20, 'marks': 88}, 'second': {'name': 'aahna', 'age': 21, 'marks': 91}, 'third': {'name': 'anamika', 'age': 21, 'marks': 99}}\n"
     ]
    }
   ],
   "source": [
    "# creating nested dictionary with dictionaries\n",
    "record1 = {\"name\": \"anaya\", \"age\":20, \"marks\":88}\n",
    "record2 = {\"name\": \"aahna\", \"age\":21, \"marks\":91}\n",
    "record3 = {\"name\": \"anamika\", \"age\":21, \"marks\":99}\n",
    "total ={\"first\" : record1,\"second\":record2,\"third\":record3}\n",
    "print(total)"
   ]
  },
  {
   "cell_type": "code",
   "execution_count": 32,
   "metadata": {},
   "outputs": [
    {
     "name": "stdout",
     "output_type": "stream",
     "text": [
      "first {'name': 'anaya', 'age': 20, 'marks': 88}\n",
      "second {'name': 'aahna', 'age': 21, 'marks': 91}\n",
      "third {'name': 'anamika', 'age': 21, 'marks': 99}\n"
     ]
    }
   ],
   "source": [
    "# printig 'total' dictionary element-wise\n",
    "for x,y in total.items():\n",
    "    print(x,y)"
   ]
  },
  {
   "cell_type": "code",
   "execution_count": 33,
   "metadata": {},
   "outputs": [
    {
     "name": "stdout",
     "output_type": "stream",
     "text": [
      "{'name': 'anaya', 'age': 20, 'marks': 88}\n",
      "{'name': 'aahna', 'age': 21, 'marks': 91}\n",
      "{'name': 'anamika', 'age': 21, 'marks': 99}\n"
     ]
    }
   ],
   "source": [
    "# printing values of 'total' dictionary\n",
    "for x in total:\n",
    "    print(total[x])"
   ]
  },
  {
   "cell_type": "code",
   "execution_count": 34,
   "metadata": {},
   "outputs": [
    {
     "name": "stdout",
     "output_type": "stream",
     "text": [
      "{'name': 'anaya', 'age': 20, 'marks': 88}\n"
     ]
    }
   ],
   "source": [
    "print(total['first'])"
   ]
  },
  {
   "cell_type": "code",
   "execution_count": 35,
   "metadata": {},
   "outputs": [
    {
     "name": "stdout",
     "output_type": "stream",
     "text": [
      "20\n"
     ]
    }
   ],
   "source": [
    "print(total['first']['age'])"
   ]
  },
  {
   "cell_type": "code",
   "execution_count": 36,
   "metadata": {},
   "outputs": [
    {
     "name": "stdout",
     "output_type": "stream",
     "text": [
      "20\n",
      "21\n",
      "21\n"
     ]
    }
   ],
   "source": [
    "for x in total:\n",
    "    print(total[x]['age'])"
   ]
  },
  {
   "cell_type": "code",
   "execution_count": 39,
   "metadata": {},
   "outputs": [
    {
     "name": "stdout",
     "output_type": "stream",
     "text": [
      "first\n",
      "name anaya\n",
      "age 20\n",
      "marks 88\n",
      "second\n",
      "name aahna\n",
      "age 21\n",
      "marks 91\n",
      "third\n",
      "name anamika\n",
      "age 21\n",
      "marks 99\n"
     ]
    }
   ],
   "source": [
    "for x, y in total.items():\n",
    "    print(x)\n",
    "    for i, j in y.items():\n",
    "        print(i,j)"
   ]
  }
 ],
 "metadata": {
  "kernelspec": {
   "display_name": "Python 3",
   "language": "python",
   "name": "python3"
  },
  "language_info": {
   "codemirror_mode": {
    "name": "ipython",
    "version": 3
   },
   "file_extension": ".py",
   "mimetype": "text/x-python",
   "name": "python",
   "nbconvert_exporter": "python",
   "pygments_lexer": "ipython3",
   "version": "3.7.6"
  }
 },
 "nbformat": 4,
 "nbformat_minor": 4
}
